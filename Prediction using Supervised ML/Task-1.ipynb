{
 "cells": [
  {
   "cell_type": "code",
   "execution_count": 1,
   "metadata": {},
   "outputs": [],
   "source": [
    "import pandas as pd\n",
    "import numpy as np \n",
    "import matplotlib.pyplot as plt\n",
    "import seaborn as sns\n",
    "%matplotlib inline"
   ]
  },
  {
   "cell_type": "code",
   "execution_count": 2,
   "metadata": {},
   "outputs": [],
   "source": [
    "df=pd.read_csv('http://bit.ly/w-data')"
   ]
  },
  {
   "cell_type": "code",
   "execution_count": 3,
   "metadata": {},
   "outputs": [
    {
     "data": {
      "text/html": [
       "<div>\n",
       "<style scoped>\n",
       "    .dataframe tbody tr th:only-of-type {\n",
       "        vertical-align: middle;\n",
       "    }\n",
       "\n",
       "    .dataframe tbody tr th {\n",
       "        vertical-align: top;\n",
       "    }\n",
       "\n",
       "    .dataframe thead th {\n",
       "        text-align: right;\n",
       "    }\n",
       "</style>\n",
       "<table border=\"1\" class=\"dataframe\">\n",
       "  <thead>\n",
       "    <tr style=\"text-align: right;\">\n",
       "      <th></th>\n",
       "      <th>Hours</th>\n",
       "      <th>Scores</th>\n",
       "    </tr>\n",
       "  </thead>\n",
       "  <tbody>\n",
       "    <tr>\n",
       "      <th>0</th>\n",
       "      <td>2.5</td>\n",
       "      <td>21</td>\n",
       "    </tr>\n",
       "    <tr>\n",
       "      <th>1</th>\n",
       "      <td>5.1</td>\n",
       "      <td>47</td>\n",
       "    </tr>\n",
       "    <tr>\n",
       "      <th>2</th>\n",
       "      <td>3.2</td>\n",
       "      <td>27</td>\n",
       "    </tr>\n",
       "    <tr>\n",
       "      <th>3</th>\n",
       "      <td>8.5</td>\n",
       "      <td>75</td>\n",
       "    </tr>\n",
       "    <tr>\n",
       "      <th>4</th>\n",
       "      <td>3.5</td>\n",
       "      <td>30</td>\n",
       "    </tr>\n",
       "  </tbody>\n",
       "</table>\n",
       "</div>"
      ],
      "text/plain": [
       "   Hours  Scores\n",
       "0    2.5      21\n",
       "1    5.1      47\n",
       "2    3.2      27\n",
       "3    8.5      75\n",
       "4    3.5      30"
      ]
     },
     "execution_count": 3,
     "metadata": {},
     "output_type": "execute_result"
    }
   ],
   "source": [
    "df.head()"
   ]
  },
  {
   "cell_type": "code",
   "execution_count": 4,
   "metadata": {},
   "outputs": [
    {
     "data": {
      "text/plain": [
       "(25, 2)"
      ]
     },
     "execution_count": 4,
     "metadata": {},
     "output_type": "execute_result"
    }
   ],
   "source": [
    "df.shape"
   ]
  },
  {
   "cell_type": "code",
   "execution_count": 5,
   "metadata": {},
   "outputs": [
    {
     "data": {
      "text/plain": [
       "Hours     0\n",
       "Scores    0\n",
       "dtype: int64"
      ]
     },
     "execution_count": 5,
     "metadata": {},
     "output_type": "execute_result"
    }
   ],
   "source": [
    "df.isnull().sum()"
   ]
  },
  {
   "cell_type": "code",
   "execution_count": 6,
   "metadata": {},
   "outputs": [
    {
     "data": {
      "text/plain": [
       "0"
      ]
     },
     "execution_count": 6,
     "metadata": {},
     "output_type": "execute_result"
    }
   ],
   "source": [
    "df.duplicated().sum()"
   ]
  },
  {
   "cell_type": "code",
   "execution_count": 7,
   "metadata": {},
   "outputs": [
    {
     "name": "stdout",
     "output_type": "stream",
     "text": [
      "<class 'pandas.core.frame.DataFrame'>\n",
      "RangeIndex: 25 entries, 0 to 24\n",
      "Data columns (total 2 columns):\n",
      " #   Column  Non-Null Count  Dtype  \n",
      "---  ------  --------------  -----  \n",
      " 0   Hours   25 non-null     float64\n",
      " 1   Scores  25 non-null     int64  \n",
      "dtypes: float64(1), int64(1)\n",
      "memory usage: 528.0 bytes\n"
     ]
    }
   ],
   "source": [
    "df.info()"
   ]
  },
  {
   "cell_type": "code",
   "execution_count": 8,
   "metadata": {},
   "outputs": [
    {
     "data": {
      "text/plain": [
       "{'whiskers': [<matplotlib.lines.Line2D at 0x27c7d1c9ca0>,\n",
       "  <matplotlib.lines.Line2D at 0x27c7d1e7040>,\n",
       "  <matplotlib.lines.Line2D at 0x27c7d1f34f0>,\n",
       "  <matplotlib.lines.Line2D at 0x27c7d1f3850>,\n",
       "  <matplotlib.lines.Line2D at 0x27c7d1fdcd0>,\n",
       "  <matplotlib.lines.Line2D at 0x27c7d209070>,\n",
       "  <matplotlib.lines.Line2D at 0x27c7d2124f0>,\n",
       "  <matplotlib.lines.Line2D at 0x27c7d212850>,\n",
       "  <matplotlib.lines.Line2D at 0x27c7d220cd0>,\n",
       "  <matplotlib.lines.Line2D at 0x27c7d229070>,\n",
       "  <matplotlib.lines.Line2D at 0x27c7d2344f0>,\n",
       "  <matplotlib.lines.Line2D at 0x27c7d234850>,\n",
       "  <matplotlib.lines.Line2D at 0x27c7d23fcd0>,\n",
       "  <matplotlib.lines.Line2D at 0x27c7d24b070>,\n",
       "  <matplotlib.lines.Line2D at 0x27c7d2564f0>,\n",
       "  <matplotlib.lines.Line2D at 0x27c7d256850>,\n",
       "  <matplotlib.lines.Line2D at 0x27c7d261cd0>,\n",
       "  <matplotlib.lines.Line2D at 0x27c7d26a070>,\n",
       "  <matplotlib.lines.Line2D at 0x27c7d2774f0>,\n",
       "  <matplotlib.lines.Line2D at 0x27c7d277850>,\n",
       "  <matplotlib.lines.Line2D at 0x27c7d281cd0>,\n",
       "  <matplotlib.lines.Line2D at 0x27c7d28d070>,\n",
       "  <matplotlib.lines.Line2D at 0x27c7d2984f0>,\n",
       "  <matplotlib.lines.Line2D at 0x27c7d298850>,\n",
       "  <matplotlib.lines.Line2D at 0x27c7d2a1cd0>,\n",
       "  <matplotlib.lines.Line2D at 0x27c7d2ad070>,\n",
       "  <matplotlib.lines.Line2D at 0x27c7d2b74f0>,\n",
       "  <matplotlib.lines.Line2D at 0x27c7d2b7850>,\n",
       "  <matplotlib.lines.Line2D at 0x27c7d2c3cd0>,\n",
       "  <matplotlib.lines.Line2D at 0x27c7d2ce070>,\n",
       "  <matplotlib.lines.Line2D at 0x27c7d2d94f0>,\n",
       "  <matplotlib.lines.Line2D at 0x27c7d2d9850>,\n",
       "  <matplotlib.lines.Line2D at 0x27c7d2e3cd0>,\n",
       "  <matplotlib.lines.Line2D at 0x27c7d2ef070>,\n",
       "  <matplotlib.lines.Line2D at 0x27c7d2fa4f0>,\n",
       "  <matplotlib.lines.Line2D at 0x27c7d2fa850>,\n",
       "  <matplotlib.lines.Line2D at 0x27c7d304cd0>,\n",
       "  <matplotlib.lines.Line2D at 0x27c7d310070>,\n",
       "  <matplotlib.lines.Line2D at 0x27c7d31b4f0>,\n",
       "  <matplotlib.lines.Line2D at 0x27c7d31b850>,\n",
       "  <matplotlib.lines.Line2D at 0x27c7d326cd0>,\n",
       "  <matplotlib.lines.Line2D at 0x27c7d3310a0>,\n",
       "  <matplotlib.lines.Line2D at 0x27c7d33c520>,\n",
       "  <matplotlib.lines.Line2D at 0x27c7d33c880>,\n",
       "  <matplotlib.lines.Line2D at 0x27c7d347d00>,\n",
       "  <matplotlib.lines.Line2D at 0x27c7d3530a0>,\n",
       "  <matplotlib.lines.Line2D at 0x27c7d35d520>,\n",
       "  <matplotlib.lines.Line2D at 0x27c7d35d880>,\n",
       "  <matplotlib.lines.Line2D at 0x27c7d368d00>,\n",
       "  <matplotlib.lines.Line2D at 0x27c7d3730a0>],\n",
       " 'caps': [<matplotlib.lines.Line2D at 0x27c7d1e73a0>,\n",
       "  <matplotlib.lines.Line2D at 0x27c7d1e7700>,\n",
       "  <matplotlib.lines.Line2D at 0x27c7d1f3bb0>,\n",
       "  <matplotlib.lines.Line2D at 0x27c7d1f3f10>,\n",
       "  <matplotlib.lines.Line2D at 0x27c7d2093d0>,\n",
       "  <matplotlib.lines.Line2D at 0x27c7d209730>,\n",
       "  <matplotlib.lines.Line2D at 0x27c7d212bb0>,\n",
       "  <matplotlib.lines.Line2D at 0x27c7d212f10>,\n",
       "  <matplotlib.lines.Line2D at 0x27c7d2293d0>,\n",
       "  <matplotlib.lines.Line2D at 0x27c7d229730>,\n",
       "  <matplotlib.lines.Line2D at 0x27c7d234bb0>,\n",
       "  <matplotlib.lines.Line2D at 0x27c7d234f10>,\n",
       "  <matplotlib.lines.Line2D at 0x27c7d24b3d0>,\n",
       "  <matplotlib.lines.Line2D at 0x27c7d24b730>,\n",
       "  <matplotlib.lines.Line2D at 0x27c7d256bb0>,\n",
       "  <matplotlib.lines.Line2D at 0x27c7d256f10>,\n",
       "  <matplotlib.lines.Line2D at 0x27c7d26a3d0>,\n",
       "  <matplotlib.lines.Line2D at 0x27c7d26a730>,\n",
       "  <matplotlib.lines.Line2D at 0x27c7d277bb0>,\n",
       "  <matplotlib.lines.Line2D at 0x27c7d277f10>,\n",
       "  <matplotlib.lines.Line2D at 0x27c7d28d3d0>,\n",
       "  <matplotlib.lines.Line2D at 0x27c7d28d730>,\n",
       "  <matplotlib.lines.Line2D at 0x27c7d298bb0>,\n",
       "  <matplotlib.lines.Line2D at 0x27c7d298f10>,\n",
       "  <matplotlib.lines.Line2D at 0x27c7d2ad3d0>,\n",
       "  <matplotlib.lines.Line2D at 0x27c7d2ad730>,\n",
       "  <matplotlib.lines.Line2D at 0x27c7d2b7bb0>,\n",
       "  <matplotlib.lines.Line2D at 0x27c7d2b7f10>,\n",
       "  <matplotlib.lines.Line2D at 0x27c7d2ce3d0>,\n",
       "  <matplotlib.lines.Line2D at 0x27c7d2ce730>,\n",
       "  <matplotlib.lines.Line2D at 0x27c7d2d9bb0>,\n",
       "  <matplotlib.lines.Line2D at 0x27c7d2d9f10>,\n",
       "  <matplotlib.lines.Line2D at 0x27c7d2ef3d0>,\n",
       "  <matplotlib.lines.Line2D at 0x27c7d2ef730>,\n",
       "  <matplotlib.lines.Line2D at 0x27c7d2fabb0>,\n",
       "  <matplotlib.lines.Line2D at 0x27c7d2faf10>,\n",
       "  <matplotlib.lines.Line2D at 0x27c7d3103d0>,\n",
       "  <matplotlib.lines.Line2D at 0x27c7d310730>,\n",
       "  <matplotlib.lines.Line2D at 0x27c7d31bbb0>,\n",
       "  <matplotlib.lines.Line2D at 0x27c7d31bf10>,\n",
       "  <matplotlib.lines.Line2D at 0x27c7d331400>,\n",
       "  <matplotlib.lines.Line2D at 0x27c7d331760>,\n",
       "  <matplotlib.lines.Line2D at 0x27c7d33cbe0>,\n",
       "  <matplotlib.lines.Line2D at 0x27c7d33cf40>,\n",
       "  <matplotlib.lines.Line2D at 0x27c7d353400>,\n",
       "  <matplotlib.lines.Line2D at 0x27c7d353760>,\n",
       "  <matplotlib.lines.Line2D at 0x27c7d35dbe0>,\n",
       "  <matplotlib.lines.Line2D at 0x27c7d35df40>,\n",
       "  <matplotlib.lines.Line2D at 0x27c7d373400>,\n",
       "  <matplotlib.lines.Line2D at 0x27c7d373760>],\n",
       " 'boxes': [<matplotlib.lines.Line2D at 0x27c7d1c9940>,\n",
       "  <matplotlib.lines.Line2D at 0x27c7d1f3190>,\n",
       "  <matplotlib.lines.Line2D at 0x27c7d1fd970>,\n",
       "  <matplotlib.lines.Line2D at 0x27c7d212190>,\n",
       "  <matplotlib.lines.Line2D at 0x27c7d220970>,\n",
       "  <matplotlib.lines.Line2D at 0x27c7d234190>,\n",
       "  <matplotlib.lines.Line2D at 0x27c7d23f970>,\n",
       "  <matplotlib.lines.Line2D at 0x27c7d256190>,\n",
       "  <matplotlib.lines.Line2D at 0x27c7d261970>,\n",
       "  <matplotlib.lines.Line2D at 0x27c7d277190>,\n",
       "  <matplotlib.lines.Line2D at 0x27c7d281970>,\n",
       "  <matplotlib.lines.Line2D at 0x27c7d298190>,\n",
       "  <matplotlib.lines.Line2D at 0x27c7d2a1970>,\n",
       "  <matplotlib.lines.Line2D at 0x27c7d2b7190>,\n",
       "  <matplotlib.lines.Line2D at 0x27c7d2c3970>,\n",
       "  <matplotlib.lines.Line2D at 0x27c7d2d9190>,\n",
       "  <matplotlib.lines.Line2D at 0x27c7d2e3970>,\n",
       "  <matplotlib.lines.Line2D at 0x27c7d2fa190>,\n",
       "  <matplotlib.lines.Line2D at 0x27c7d304970>,\n",
       "  <matplotlib.lines.Line2D at 0x27c7d31b190>,\n",
       "  <matplotlib.lines.Line2D at 0x27c7d326970>,\n",
       "  <matplotlib.lines.Line2D at 0x27c7d33c1c0>,\n",
       "  <matplotlib.lines.Line2D at 0x27c7d3479a0>,\n",
       "  <matplotlib.lines.Line2D at 0x27c7d35d1c0>,\n",
       "  <matplotlib.lines.Line2D at 0x27c7d3689a0>],\n",
       " 'medians': [<matplotlib.lines.Line2D at 0x27c7d1e7a60>,\n",
       "  <matplotlib.lines.Line2D at 0x27c7d1fd2b0>,\n",
       "  <matplotlib.lines.Line2D at 0x27c7d209a90>,\n",
       "  <matplotlib.lines.Line2D at 0x27c7d2202b0>,\n",
       "  <matplotlib.lines.Line2D at 0x27c7d229a90>,\n",
       "  <matplotlib.lines.Line2D at 0x27c7d23f2b0>,\n",
       "  <matplotlib.lines.Line2D at 0x27c7d24ba90>,\n",
       "  <matplotlib.lines.Line2D at 0x27c7d2612b0>,\n",
       "  <matplotlib.lines.Line2D at 0x27c7d26aa90>,\n",
       "  <matplotlib.lines.Line2D at 0x27c7d2812b0>,\n",
       "  <matplotlib.lines.Line2D at 0x27c7d28da90>,\n",
       "  <matplotlib.lines.Line2D at 0x27c7d2a12b0>,\n",
       "  <matplotlib.lines.Line2D at 0x27c7d2ada90>,\n",
       "  <matplotlib.lines.Line2D at 0x27c7d2c32b0>,\n",
       "  <matplotlib.lines.Line2D at 0x27c7d2cea90>,\n",
       "  <matplotlib.lines.Line2D at 0x27c7d2e32b0>,\n",
       "  <matplotlib.lines.Line2D at 0x27c7d2efa90>,\n",
       "  <matplotlib.lines.Line2D at 0x27c7d3042b0>,\n",
       "  <matplotlib.lines.Line2D at 0x27c7d310a90>,\n",
       "  <matplotlib.lines.Line2D at 0x27c7d3262b0>,\n",
       "  <matplotlib.lines.Line2D at 0x27c7d331ac0>,\n",
       "  <matplotlib.lines.Line2D at 0x27c7d3472e0>,\n",
       "  <matplotlib.lines.Line2D at 0x27c7d353ac0>,\n",
       "  <matplotlib.lines.Line2D at 0x27c7d3682e0>,\n",
       "  <matplotlib.lines.Line2D at 0x27c7d373ac0>],\n",
       " 'fliers': [<matplotlib.lines.Line2D at 0x27c7d1e7d60>,\n",
       "  <matplotlib.lines.Line2D at 0x27c7d1fd5b0>,\n",
       "  <matplotlib.lines.Line2D at 0x27c7d209d90>,\n",
       "  <matplotlib.lines.Line2D at 0x27c7d2205b0>,\n",
       "  <matplotlib.lines.Line2D at 0x27c7d229d90>,\n",
       "  <matplotlib.lines.Line2D at 0x27c7d23f5b0>,\n",
       "  <matplotlib.lines.Line2D at 0x27c7d24bd90>,\n",
       "  <matplotlib.lines.Line2D at 0x27c7d2615b0>,\n",
       "  <matplotlib.lines.Line2D at 0x27c7d26ad90>,\n",
       "  <matplotlib.lines.Line2D at 0x27c7d2815b0>,\n",
       "  <matplotlib.lines.Line2D at 0x27c7d28dd90>,\n",
       "  <matplotlib.lines.Line2D at 0x27c7d2a15b0>,\n",
       "  <matplotlib.lines.Line2D at 0x27c7d2add90>,\n",
       "  <matplotlib.lines.Line2D at 0x27c7d2c35b0>,\n",
       "  <matplotlib.lines.Line2D at 0x27c7d2ced90>,\n",
       "  <matplotlib.lines.Line2D at 0x27c7d2e35b0>,\n",
       "  <matplotlib.lines.Line2D at 0x27c7d2efd90>,\n",
       "  <matplotlib.lines.Line2D at 0x27c7d3045b0>,\n",
       "  <matplotlib.lines.Line2D at 0x27c7d310d90>,\n",
       "  <matplotlib.lines.Line2D at 0x27c7d3265b0>,\n",
       "  <matplotlib.lines.Line2D at 0x27c7d331dc0>,\n",
       "  <matplotlib.lines.Line2D at 0x27c7d3475e0>,\n",
       "  <matplotlib.lines.Line2D at 0x27c7d353dc0>,\n",
       "  <matplotlib.lines.Line2D at 0x27c7d3685e0>,\n",
       "  <matplotlib.lines.Line2D at 0x27c7d373dc0>],\n",
       " 'means': []}"
      ]
     },
     "execution_count": 8,
     "metadata": {},
     "output_type": "execute_result"
    },
    {
     "data": {
      "image/png": "[encoded data removed]",
      "text/plain": [
       "<Figure size 432x288 with 1 Axes>"
      ]
     },
     "metadata": {
      "needs_background": "light"
     },
     "output_type": "display_data"
    }
   ],
   "source": [
    "plt.boxplot(df)"
   ]
  },
  {
   "cell_type": "code",
   "execution_count": 9,
   "metadata": {},
   "outputs": [
    {
     "data": {
      "text/plain": [
       "Text(0, 0.5, 'Scores')"
      ]
     },
     "execution_count": 9,
     "metadata": {},
     "output_type": "execute_result"
    },
    {
     "data": {
      "image/png": "[encoded data removed]",
      "text/plain": [
       "<Figure size 432x288 with 1 Axes>"
      ]
     },
     "metadata": {
      "needs_background": "light"
     },
     "output_type": "display_data"
    }
   ],
   "source": [
    "plt.scatter(df['Hours'],df['Scores'],c='red')\n",
    "plt.xlabel('Hours')\n",
    "plt.ylabel('Scores')"
   ]
  },
  {
   "cell_type": "code",
   "execution_count": 10,
   "metadata": {},
   "outputs": [],
   "source": [
    "x=df.iloc[:,:-1]\n",
    "y=df.iloc[:,-1]"
   ]
  },
  {
   "cell_type": "code",
   "execution_count": 11,
   "metadata": {},
   "outputs": [],
   "source": [
    "from sklearn.model_selection import train_test_split"
   ]
  },
  {
   "cell_type": "code",
   "execution_count": 12,
   "metadata": {},
   "outputs": [],
   "source": [
    "x_train,x_test,y_train,y_test=train_test_split(x,y,test_size=0.2,random_state=42)"
   ]
  },
  {
   "cell_type": "code",
   "execution_count": 13,
   "metadata": {},
   "outputs": [],
   "source": [
    "from sklearn.linear_model import LinearRegression\n",
    "lr=LinearRegression()"
   ]
  },
  {
   "cell_type": "code",
   "execution_count": 14,
   "metadata": {},
   "outputs": [],
   "source": [
    "lr.fit(x_train,y_train)\n",
    "y_pred=lr.predict(x_test)"
   ]
  },
  {
   "cell_type": "code",
   "execution_count": 15,
   "metadata": {},
   "outputs": [
    {
     "name": "stdout",
     "output_type": "stream",
     "text": [
      "0.9678055545167994\n"
     ]
    }
   ],
   "source": [
    "from sklearn.metrics import r2_score\n",
    "sc=r2_score(y_test,y_pred)\n",
    "print(sc)"
   ]
  },
  {
   "cell_type": "code",
   "execution_count": 16,
   "metadata": {},
   "outputs": [
    {
     "data": {
      "text/plain": [
       "Text(0.5, 1.0, 'Regression Line')"
      ]
     },
     "execution_count": 16,
     "metadata": {},
     "output_type": "execute_result"
    },
    {
     "data": {
      "image/png": "[encoded data removed]",
      "text/plain": [
       "<Figure size 432x288 with 1 Axes>"
      ]
     },
     "metadata": {
      "needs_background": "light"
     },
     "output_type": "display_data"
    }
   ],
   "source": [
    "plt.scatter(x_test,y_test)\n",
    "plt.plot(x_test,y_pred,color='red')\n",
    "plt.title('Regression Line')\n"
   ]
  },
  {
   "cell_type": "code",
   "execution_count": null,
   "metadata": {},
   "outputs": [],
   "source": []
  }
 ],
 "metadata": {
  "kernelspec": {
   "display_name": "Python 3",
   "language": "python",
   "name": "python3"
  },
  "language_info": {
   "codemirror_mode": {
    "name": "ipython",
    "version": 3
   },
   "file_extension": ".py",
   "mimetype": "text/x-python",
   "name": "python",
   "nbconvert_exporter": "python",
   "pygments_lexer": "ipython3",
   "version": "3.8.3"
  }
 },
 "nbformat": 4,
 "nbformat_minor": 4
}
